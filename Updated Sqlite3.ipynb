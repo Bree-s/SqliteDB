{
 "cells": [
  {
   "cell_type": "code",
   "execution_count": 3,
   "metadata": {},
   "outputs": [
    {
     "name": "stdout",
     "output_type": "stream",
     "text": [
      "Megapharma Database Created successfully\n"
     ]
    }
   ],
   "source": [
    "import sqlite3\n",
    "import csv\n",
    "conn = sqlite3.connect('megapharma.db')\n",
    "print(\"Megapharma Database Created successfully\")"
   ]
  },
  {
   "cell_type": "code",
   "execution_count": 10,
   "metadata": {},
   "outputs": [
    {
     "name": "stdout",
     "output_type": "stream",
     "text": [
      "SQLite version: 3.33.0\n"
     ]
    }
   ],
   "source": [
    "conn = sqlite3.connect('Company1.db')\n",
    "cursor = conn.cursor()\n",
    "cursor.execute('SELECT SQLITE_VERSION()')\n",
    "data = cursor.fetchone()[0]\n",
    "print(f\"SQLite version: {data}\")"
   ]
  },
  {
   "cell_type": "code",
   "execution_count": 7,
   "metadata": {},
   "outputs": [
    {
     "name": "stdout",
     "output_type": "stream",
     "text": [
      "Hospital Database Table Structure\n",
      "(0, 'Hospital_Id', 'INT', 1, None, 0)\n",
      "(1, 'Hospital_Name', 'TEXT', 1, None, 0)\n",
      "(2, 'Bed_Count', 'INT', 1, None, 0)\n"
     ]
    }
   ],
   "source": [
    "cursor.execute('CREATE TABLE IF NOT EXISTS Hospital(Hospital_Id INT NOT NULL UNIQUE,Hospital_Name TEXT NOT NULL,Bed_Count INT NOT NULL)')\n",
    "conn = conn.execute(\"PRAGMA table_info('Hospital');\")\n",
    "print(\"Hospital Database Table Structure\")\n",
    "for z in conn.fetchall():\n",
    "    print(z)"
   ]
  },
  {
   "cell_type": "code",
   "execution_count": 9,
   "metadata": {},
   "outputs": [
    {
     "name": "stdout",
     "output_type": "stream",
     "text": [
      "Doctors Database Table Structure\n",
      "(0, 'Hospital_Id', 'INT', 1, None, 0)\n",
      "(1, 'Hospital_Name', 'TEXT', 1, None, 0)\n",
      "(2, 'Bed_Count', 'INT', 1, None, 0)\n"
     ]
    }
   ],
   "source": [
    "cursor.execute('CREATE TABLE IF NOT EXISTS Doctors(Doctor_Id INT NOT NULL UNIQUE, Doctor_Name TEXT NOT NULL, Hospital_Id INT NOT NULL UNIQUE, Date_Joined REAL NOT NULL, Specialty TEXT NOT NULL, Salary INT NOT NULL,Experience INT NOT NULL)')\n",
    "conn = conn.execute(\"PRAGMA table_info('Hospital');\")\n",
    "print(\"Doctors Database Table Structure\")\n",
    "for z in conn.fetchall():\n",
    "    print(z)"
   ]
  },
  {
   "cell_type": "code",
   "execution_count": 43,
   "metadata": {},
   "outputs": [
    {
     "name": "stdout",
     "output_type": "stream",
     "text": [
      "(2002, 'Kings', 100)\n",
      "(3003, 'Queens', 80)\n",
      "(4004, 'Richmond', 70)\n",
      "(2003, 'Yonkers', 200)\n",
      "(3004, 'Staten', 87)\n",
      "(4005, 'Brooklyn', 90)\n"
     ]
    }
   ],
   "source": [
    "import csv\n",
    "conn = sqlite3.connect('Company1.db')\n",
    "cursor = conn.cursor()\n",
    "bfile = open(\"C:\\\\Users\\\\brenda.onyango\\\\Downloads\\\\Hospital.csv\",'r')\n",
    "rows = csv.reader(bfile)\n",
    "next(rows, None)\n",
    "cursor.executemany(\"INSERT INTO Hospital VALUES(?,?,?)\", rows)\n",
    "cursor.execute(\"SELECT * FROM Hospital\")\n",
    "Brendaa = cursor.fetchall()\n",
    "for Onyangoo in Brendaa: \n",
    "    print(Onyangoo)\n",
    "conn.commit()"
   ]
  },
  {
   "cell_type": "code",
   "execution_count": 41,
   "metadata": {},
   "outputs": [
    {
     "data": {
      "text/plain": [
       "'C:\\\\Users\\\\brenda.onyango\\\\Downloads'"
      ]
     },
     "execution_count": 41,
     "metadata": {},
     "output_type": "execute_result"
    }
   ],
   "source": [
    "import os\n",
    "os.getcwd()"
   ]
  },
  {
   "cell_type": "code",
   "execution_count": 47,
   "metadata": {},
   "outputs": [
    {
     "name": "stdout",
     "output_type": "stream",
     "text": [
      "(101, 'DoctorA', 2002, '10/10/2005', 'Pedeatrics', 200000, 8)\n",
      "(102, 'DoctorB', 3003, '5/5/2010', 'Surgery', 300000, 10)\n",
      "(103, 'DoctorC', 4004, '8/8/2015', 'Optometrics', 180000, 5)\n"
     ]
    }
   ],
   "source": [
    "import csv\n",
    "conn = sqlite3.connect('Company1.db')\n",
    "cursor = conn.cursor()\n",
    "bfile = open(\"C:\\\\Users\\\\brenda.onyango\\\\Downloads\\\\Doctors.csv\",'r')\n",
    "rows = csv.reader(bfile)\n",
    "next(rows, None)\n",
    "cursor.executemany(\"INSERT INTO Doctors VALUES(?,?,?,?,?,?,?)\", rows)\n",
    "cursor.execute(\"SELECT * FROM Doctors\")\n",
    "Brendaa = cursor.fetchall()\n",
    "for Onyangoo in Brendaa: \n",
    "    print(Onyangoo)\n",
    "conn.commit()"
   ]
  },
  {
   "cell_type": "code",
   "execution_count": 5,
   "metadata": {},
   "outputs": [
    {
     "name": "stdout",
     "output_type": "stream",
     "text": [
      "(2002, 'Kings', 100, 101, 'DoctorA', 2002, '10/10/2005', 'Pedeatrics', 200000, 8)\n",
      "(3003, 'Queens', 80, 102, 'DoctorB', 3003, '5/5/2010', 'Surgery', 300000, 10)\n",
      "(4004, 'Richmond', 70, 103, 'DoctorC', 4004, '8/8/2015', 'Optometrics', 180000, 5)\n"
     ]
    }
   ],
   "source": [
    "import sqlite3\n",
    "import csv \n",
    "conn = sqlite3.connect('Company1.db')\n",
    "cursor = conn.cursor()\n",
    "cursor.execute('''SELECT * FROM Hospital INNER JOIN Doctors ON Hospital.Hospital_Id = Doctors.Hospital_Id''')\n",
    "company = cursor.fetchall()\n",
    "for files in company:\n",
    "    print(files)"
   ]
  },
  {
   "cell_type": "code",
   "execution_count": null,
   "metadata": {},
   "outputs": [],
   "source": []
  }
 ],
 "metadata": {
  "kernelspec": {
   "display_name": "Python 3",
   "language": "python",
   "name": "python3"
  },
  "language_info": {
   "codemirror_mode": {
    "name": "ipython",
    "version": 3
   },
   "file_extension": ".py",
   "mimetype": "text/x-python",
   "name": "python",
   "nbconvert_exporter": "python",
   "pygments_lexer": "ipython3",
   "version": "3.8.5"
  }
 },
 "nbformat": 4,
 "nbformat_minor": 4
}
